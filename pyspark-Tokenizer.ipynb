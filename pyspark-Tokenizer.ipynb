{
 "cells": [
  {
   "cell_type": "code",
   "execution_count": 3,
   "metadata": {
    "collapsed": false
   },
   "outputs": [],
   "source": [
    "from pyspark import SparkContext\n",
    "from py4j.java_gateway import java_import\n",
    "from pyspark.mllib.common import _to_java_object_rdd"
   ]
  },
  {
   "cell_type": "code",
   "execution_count": 4,
   "metadata": {
    "collapsed": true
   },
   "outputs": [],
   "source": [
    "# Import vnTokenizer from Java\n",
    "java_import(sc._gateway.jvm, \"vn.vitk.tok.Tokenizer\")\n",
    "Tokenizer = sc._jvm.vn.vitk.tok.Tokenizer"
   ]
  },
  {
   "cell_type": "markdown",
   "metadata": {
    "collapsed": true
   },
   "source": [
    "## Load dataset "
   ]
  },
  {
   "cell_type": "code",
   "execution_count": 19,
   "metadata": {
    "collapsed": false
   },
   "outputs": [],
   "source": [
    "data = sc.textFile('./data/data_test.txt')\n",
    "data_rdd_java = _to_java_object_rdd(data) # Convert RDD to JavaRDD"
   ]
  },
  {
   "cell_type": "markdown",
   "metadata": {},
   "source": [
    "## Tokenize"
   ]
  },
  {
   "cell_type": "code",
   "execution_count": 20,
   "metadata": {
    "collapsed": false
   },
   "outputs": [],
   "source": [
    "dataFolder = '/export/dat/tok'\n",
    "token = Tokenizer(sc._jsc, dataFolder + \"/lexicon.xml\", dataFolder + \"/regexp.txt\")\n",
    "token.setVerbose(True)\n",
    "result = token.tokenize(data_rdd_java)"
   ]
  },
  {
   "cell_type": "code",
   "execution_count": 22,
   "metadata": {
    "collapsed": false
   },
   "outputs": [
    {
     "data": {
      "text/plain": [
       "[u'Ng\\u01b0\\u1eddi c\\xf3 kh\\u1ea3_n\\u0103ng l\\xe0m th\\xec th\\u1ea5y \\u0111\\xe9o l\\xe0m c\\xe1i cc g\\xec , to\\xe0n \\u0111i h\\u1ecfi kh\\xf3 d\\xe2n_\\u0111en . D\\xe2y v\\u1edbi ch\\u1ea3 d\\u1ee9t .', u'Ch\\u1ec9 gi\\u1ecfi n\\xf3i_ngon_n\\xf3i_ng\\u1ecdt cho b\\u1ecdn d\\xe2n_\\u0111en n\\xf3 m\\xe1t_l\\xf2ng m\\xe1t_d\\u1ea1 . Th\\xf4i b\\u1edbt n\\xf3i m\\xe0 \\u0111i l\\xe0m d\\xf9m \\u0111i .', u'le van duyet']"
      ]
     },
     "execution_count": 22,
     "metadata": {},
     "output_type": "execute_result"
    }
   ],
   "source": [
    "result.take(10)"
   ]
  },
  {
   "cell_type": "code",
   "execution_count": null,
   "metadata": {
    "collapsed": true
   },
   "outputs": [],
   "source": []
  }
 ],
 "metadata": {
  "kernelspec": {
   "display_name": "Python [Root]",
   "language": "python",
   "name": "Python [Root]"
  },
  "language_info": {
   "codemirror_mode": {
    "name": "ipython",
    "version": 2
   },
   "file_extension": ".py",
   "mimetype": "text/x-python",
   "name": "python",
   "nbconvert_exporter": "python",
   "pygments_lexer": "ipython2",
   "version": "2.7.12"
  }
 },
 "nbformat": 4,
 "nbformat_minor": 0
}
